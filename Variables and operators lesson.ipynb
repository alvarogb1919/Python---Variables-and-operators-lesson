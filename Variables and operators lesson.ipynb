{
 "cells": [
  {
   "cell_type": "code",
   "execution_count": 3,
   "metadata": {},
   "outputs": [
    {
     "data": {
      "text/plain": [
       "float"
      ]
     },
     "execution_count": 3,
     "metadata": {},
     "output_type": "execute_result"
    }
   ],
   "source": [
    "#Exercise 1.1: For the following variables, use Python to check the data type for the variables.\n",
    "x1 = 1.1\n",
    "x2 = \"Ironhack\"\n",
    "x3 = \"1.1\"\n",
    "x4 = True\n",
    "x5 = \"True\"\n",
    "x6 = -1\n",
    "\n",
    "type(x1)"
   ]
  },
  {
   "cell_type": "code",
   "execution_count": 4,
   "metadata": {},
   "outputs": [
    {
     "data": {
      "text/plain": [
       "str"
      ]
     },
     "execution_count": 4,
     "metadata": {},
     "output_type": "execute_result"
    }
   ],
   "source": [
    "#Exercise 1.1: For the following variables, use Python to check the data type for the variables.\n",
    "x1 = 1.1\n",
    "x2 = \"Ironhack\"\n",
    "x3 = \"1.1\"\n",
    "x4 = True\n",
    "x5 = \"True\"\n",
    "x6 = -1\n",
    "\n",
    "type(x2)"
   ]
  },
  {
   "cell_type": "code",
   "execution_count": 5,
   "metadata": {},
   "outputs": [
    {
     "data": {
      "text/plain": [
       "str"
      ]
     },
     "execution_count": 5,
     "metadata": {},
     "output_type": "execute_result"
    }
   ],
   "source": [
    "#Exercise 1.1: For the following variables, use Python to check the data type for the variables.\n",
    "x1 = 1.1\n",
    "x2 = \"Ironhack\"\n",
    "x3 = \"1.1\"\n",
    "x4 = True\n",
    "x5 = \"True\"\n",
    "x6 = -1\n",
    "\n",
    "type(x3)"
   ]
  },
  {
   "cell_type": "code",
   "execution_count": 6,
   "metadata": {},
   "outputs": [
    {
     "data": {
      "text/plain": [
       "bool"
      ]
     },
     "execution_count": 6,
     "metadata": {},
     "output_type": "execute_result"
    }
   ],
   "source": [
    "#Exercise 1.1: For the following variables, use Python to check the data type for the variables.\n",
    "x1 = 1.1\n",
    "x2 = \"Ironhack\"\n",
    "x3 = \"1.1\"\n",
    "x4 = True\n",
    "x5 = \"True\"\n",
    "x6 = -1\n",
    "\n",
    "type(x4)"
   ]
  },
  {
   "cell_type": "code",
   "execution_count": 7,
   "metadata": {},
   "outputs": [
    {
     "data": {
      "text/plain": [
       "str"
      ]
     },
     "execution_count": 7,
     "metadata": {},
     "output_type": "execute_result"
    }
   ],
   "source": [
    "#Exercise 1.1: For the following variables, use Python to check the data type for the variables.\n",
    "x1 = 1.1\n",
    "x2 = \"Ironhack\"\n",
    "x3 = \"1.1\"\n",
    "x4 = True\n",
    "x5 = \"True\"\n",
    "x6 = -1\n",
    "\n",
    "type(x5)"
   ]
  },
  {
   "cell_type": "code",
   "execution_count": 8,
   "metadata": {},
   "outputs": [
    {
     "data": {
      "text/plain": [
       "int"
      ]
     },
     "execution_count": 8,
     "metadata": {},
     "output_type": "execute_result"
    }
   ],
   "source": [
    "#Exercise 1.1: For the following variables, use Python to check the data type for the variables.\n",
    "x1 = 1.1\n",
    "x2 = \"Ironhack\"\n",
    "x3 = \"1.1\"\n",
    "x4 = True\n",
    "x5 = \"True\"\n",
    "x6 = -1\n",
    "\n",
    "type(x6)"
   ]
  },
  {
   "cell_type": "code",
   "execution_count": null,
   "metadata": {},
   "outputs": [],
   "source": [
    "#Exercise 1.2: What is the difference between variables x1 and x3?\n",
    "#Answer: Variable x1 is an integer since it is an integer value that doesn't have quotes, while x3 is a string because it contains quotes"
   ]
  },
  {
   "cell_type": "code",
   "execution_count": null,
   "metadata": {},
   "outputs": [],
   "source": [
    "#Exercise 1.3: What is the difference between variables x4 and x5?\n",
    "#Answer: Variable x4 is boolean since it contains a TRUE statement without quotes, while x5 is a string because it contains quotes"
   ]
  },
  {
   "cell_type": "code",
   "execution_count": 8,
   "metadata": {},
   "outputs": [
    {
     "name": "stdout",
     "output_type": "stream",
     "text": [
      "Please enter an integer number: 10\n",
      "Please enter another integer number: 9\n",
      "10\n",
      "9\n"
     ]
    }
   ],
   "source": [
    "#2.1 In this problem we will show you how to take a user input. Use the code and then answer the questions that follow: Question 1: Print the values of the two variables? \n",
    "\n",
    "x1 = input(\"Please enter an integer number: \")\n",
    "\n",
    "x2 = input(\"Please enter another integer number: \")\n",
    "\n",
    "print(x1)\n",
    "print(x2)"
   ]
  },
  {
   "cell_type": "code",
   "execution_count": 9,
   "metadata": {},
   "outputs": [
    {
     "name": "stdout",
     "output_type": "stream",
     "text": [
      "Please enter an integer number: 10\n",
      "Please enter another integer number: 9\n",
      "10\n",
      "9\n"
     ]
    },
    {
     "data": {
      "text/plain": [
       "str"
      ]
     },
     "execution_count": 9,
     "metadata": {},
     "output_type": "execute_result"
    }
   ],
   "source": [
    "#2.1 In this problem we will show you how to take a user input. Use the code and then answer the questions that follow: Question 1: Print the values of the two variables? \n",
    "\n",
    "x1 = input(\"Please enter an integer number: \")\n",
    "\n",
    "x2 = input(\"Please enter another integer number: \")\n",
    "\n",
    "print(x1)\n",
    "print(x2)\n",
    "type(x1)\n",
    "type(x2)"
   ]
  },
  {
   "cell_type": "code",
   "execution_count": 11,
   "metadata": {},
   "outputs": [
    {
     "name": "stdout",
     "output_type": "stream",
     "text": [
      "Please enter an integer number: 10\n",
      "Please enter another integer number: 9\n"
     ]
    },
    {
     "data": {
      "text/plain": [
       "int"
      ]
     },
     "execution_count": 11,
     "metadata": {},
     "output_type": "execute_result"
    }
   ],
   "source": [
    "x1 = input(\"Please enter an integer number: \")\n",
    "\n",
    "x2 = input(\"Please enter another integer number: \")\n",
    "\n",
    "x1 = int(x1)\n",
    "\n",
    "x2 = int(x2)\n",
    "\n",
    "type(x1)"
   ]
  },
  {
   "cell_type": "code",
   "execution_count": 13,
   "metadata": {},
   "outputs": [
    {
     "name": "stdout",
     "output_type": "stream",
     "text": [
      "Please enter an integer number: 10\n",
      "Please enter another integer number: 9\n"
     ]
    },
    {
     "data": {
      "text/plain": [
       "False"
      ]
     },
     "execution_count": 13,
     "metadata": {},
     "output_type": "execute_result"
    }
   ],
   "source": [
    "#Question 2.0: Now perform simple comparisons between x1 and x2: the two variables? \n",
    "#Check if the two variables are equal?\n",
    "\n",
    "x1 = input(\"Please enter an integer number: \")\n",
    "\n",
    "x2 = input(\"Please enter another integer number: \")\n",
    "\n",
    "x1 = int(x1)\n",
    "\n",
    "x2 = int(x2)\n",
    "\n",
    "x1 == x2"
   ]
  },
  {
   "cell_type": "code",
   "execution_count": 16,
   "metadata": {},
   "outputs": [
    {
     "name": "stdout",
     "output_type": "stream",
     "text": [
      "Please enter an integer number: 10\n",
      "Please enter another integer number: 9\n"
     ]
    },
    {
     "data": {
      "text/plain": [
       "True"
      ]
     },
     "execution_count": 16,
     "metadata": {},
     "output_type": "execute_result"
    }
   ],
   "source": [
    "#Question 2.0: Now perform simple comparisons between x1 and x2: the two variables? \n",
    "#Check if x1 is greater than x2?\n",
    "\n",
    "x1 = input(\"Please enter an integer number: \")\n",
    "\n",
    "x2 = input(\"Please enter another integer number: \")\n",
    "\n",
    "x1 = int(x1)\n",
    "\n",
    "x2 = int(x2)\n",
    "\n",
    "x1 > x2"
   ]
  },
  {
   "cell_type": "code",
   "execution_count": 17,
   "metadata": {},
   "outputs": [
    {
     "name": "stdout",
     "output_type": "stream",
     "text": [
      "Please enter an integer number: 10\n",
      "Please enter another integer number: 9\n"
     ]
    },
    {
     "data": {
      "text/plain": [
       "False"
      ]
     },
     "execution_count": 17,
     "metadata": {},
     "output_type": "execute_result"
    }
   ],
   "source": [
    "#Question 2.0: Now perform simple comparisons between x1 and x2: the two variables? \n",
    "#Check if x2 is greater than x1?\n",
    "\n",
    "x1 = input(\"Please enter an integer number: \")\n",
    "\n",
    "x2 = input(\"Please enter another integer number: \")\n",
    "\n",
    "x1 = int(x1)\n",
    "\n",
    "x2 = int(x2)\n",
    "\n",
    "x2 > x1"
   ]
  },
  {
   "cell_type": "code",
   "execution_count": 18,
   "metadata": {},
   "outputs": [
    {
     "name": "stdout",
     "output_type": "stream",
     "text": [
      "Please enter an integer number: 10\n",
      "Please enter another integer number: 9\n"
     ]
    },
    {
     "data": {
      "text/plain": [
       "True"
      ]
     },
     "execution_count": 18,
     "metadata": {},
     "output_type": "execute_result"
    }
   ],
   "source": [
    "#Question 2.0: Now perform simple comparisons between x1 and x2: the two variables? \n",
    "#Check if x1 is not equal to x2?\n",
    "\n",
    "x1 = input(\"Please enter an integer number: \")\n",
    "\n",
    "x2 = input(\"Please enter another integer number: \")\n",
    "\n",
    "x1 = int(x1)\n",
    "\n",
    "x2 = int(x2)\n",
    "\n",
    "x1 != x2"
   ]
  },
  {
   "cell_type": "code",
   "execution_count": 23,
   "metadata": {},
   "outputs": [
    {
     "name": "stdout",
     "output_type": "stream",
     "text": [
      "Please enter an integer number: 10\n",
      "Please enter another integer number: 9\n",
      "1\n"
     ]
    }
   ],
   "source": [
    "#Question 2.0: Now perform simple comparisons between x1 and x2: the two variables? \n",
    "#Store the difference between the two variables x1 and x2 in another variable x3 (subtract the smaller number from the larger number).\n",
    "\n",
    "x1 = input(\"Please enter an integer number: \")\n",
    "\n",
    "x2 = input(\"Please enter another integer number: \")\n",
    "\n",
    "x1 = int(x1)\n",
    "\n",
    "x2 = int(x2)\n",
    "\n",
    "x3 = x1-x2\n",
    "\n",
    "print(x3)"
   ]
  },
  {
   "cell_type": "code",
   "execution_count": 24,
   "metadata": {},
   "outputs": [
    {
     "name": "stdout",
     "output_type": "stream",
     "text": [
      "Please enter an integer number: 10\n",
      "Please enter another integer number: 9\n"
     ]
    },
    {
     "data": {
      "text/plain": [
       "True"
      ]
     },
     "execution_count": 24,
     "metadata": {},
     "output_type": "execute_result"
    }
   ],
   "source": [
    "#Question 2.0: Now perform simple comparisons between x1 and x2: the two variables? \n",
    "#Increment the smaller of the two variables (x1 and x2) with the difference.Use the shorthand addition operator for the same. Again check if x1 and x2 are equal or not?\n",
    "\n",
    "x1 = input(\"Please enter an integer number: \")\n",
    "\n",
    "x2 = input(\"Please enter another integer number: \")\n",
    "\n",
    "x1 = int(x1)\n",
    "\n",
    "x2 = int(x2)\n",
    "\n",
    "x3 = x1-x2\n",
    "\n",
    "x2 = x2+x3\n",
    "\n",
    "x1 == x2\n"
   ]
  },
  {
   "cell_type": "code",
   "execution_count": 29,
   "metadata": {},
   "outputs": [
    {
     "data": {
      "text/plain": [
       "24"
      ]
     },
     "execution_count": 29,
     "metadata": {},
     "output_type": "execute_result"
    }
   ],
   "source": [
    "#2.2 In the lesson, we talked about math library in Python. Here is a link to the math library documentation. Go through the documentation and try any 3 or more functions on a numerical variable that were not described in the lesson.\n",
    "import math \n",
    "math.factorial(4)"
   ]
  },
  {
   "cell_type": "code",
   "execution_count": 31,
   "metadata": {},
   "outputs": [
    {
     "data": {
      "text/plain": [
       "148.4131591025766"
      ]
     },
     "execution_count": 31,
     "metadata": {},
     "output_type": "execute_result"
    }
   ],
   "source": [
    "import math \n",
    "math.exp(5)"
   ]
  },
  {
   "cell_type": "code",
   "execution_count": 32,
   "metadata": {},
   "outputs": [
    {
     "data": {
      "text/plain": [
       "0.14987720966295234"
      ]
     },
     "execution_count": 32,
     "metadata": {},
     "output_type": "execute_result"
    }
   ],
   "source": [
    "import math \n",
    "math.sin(19)"
   ]
  },
  {
   "cell_type": "code",
   "execution_count": null,
   "metadata": {},
   "outputs": [],
   "source": []
  }
 ],
 "metadata": {
  "kernelspec": {
   "display_name": "Python 3",
   "language": "python",
   "name": "python3"
  },
  "language_info": {
   "codemirror_mode": {
    "name": "ipython",
    "version": 3
   },
   "file_extension": ".py",
   "mimetype": "text/x-python",
   "name": "python",
   "nbconvert_exporter": "python",
   "pygments_lexer": "ipython3",
   "version": "3.8.5"
  }
 },
 "nbformat": 4,
 "nbformat_minor": 4
}
